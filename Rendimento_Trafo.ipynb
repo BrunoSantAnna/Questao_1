{
 "cells": [
  {
   "cell_type": "code",
   "execution_count": 14,
   "metadata": {},
   "outputs": [],
   "source": [
    "import math\n",
    "import matplotlib.pyplot as plt\n",
    "import numpy as np"
   ]
  },
  {
   "cell_type": "markdown",
   "metadata": {},
   "source": [
    "<h2>Cálculo dos parâmetros do transformador<h2>"
   ]
  },
  {
   "cell_type": "code",
   "execution_count": 15,
   "metadata": {},
   "outputs": [],
   "source": [
    "# Teste em vazio\n",
    "\n",
    "Vo = 230\n",
    "Io = 108\n",
    "Po = 5000\n",
    "\n",
    "# Teste em curto circuito\n",
    "\n",
    "Vcc = 13.75\n",
    "Icc = 217.39\n",
    "Pcc = 954.2\n",
    "\n",
    "# Outros parametros\n",
    "\n",
    "alpha = 10\n",
    "fp = 0.92"
   ]
  },
  {
   "cell_type": "markdown",
   "metadata": {},
   "source": [
    "<h5>Espressões para Rc e Xm:"
   ]
  },
  {
   "cell_type": "code",
   "execution_count": 16,
   "metadata": {},
   "outputs": [
    {
     "name": "stdout",
     "output_type": "stream",
     "text": [
      "Rc =  10.58\n",
      "Xm =  2.174129599413981\n"
     ]
    }
   ],
   "source": [
    "Rc = math.pow(Vo, 2)/Po\n",
    "Ic = Vo/Rc\n",
    "Im = math.sqrt(math.pow(Io, 2) - math.pow(Ic, 2))\n",
    "Xm = Vo/Im\n",
    "\n",
    "print(\"Rc = \", Rc)\n",
    "print(\"Xm = \", Xm)"
   ]
  },
  {
   "cell_type": "markdown",
   "metadata": {},
   "source": [
    "<h5>Expressões para R1, X1, R2 e X2"
   ]
  },
  {
   "cell_type": "code",
   "execution_count": 17,
   "metadata": {},
   "outputs": [
    {
     "name": "stdout",
     "output_type": "stream",
     "text": [
      "R1 =  10.095557146322317 m Ohm\n",
      "X1 =  33.197483351756894 m Ohm\n",
      "R2 =  100.95557146322317 u Ohm\n",
      "X2 =  331.9748335175689 u Ohm\n"
     ]
    }
   ],
   "source": [
    "Req = Pcc/math.pow(Icc, 2)\n",
    "Zeq = Vcc/Icc\n",
    "Xeq = math.sqrt(math.pow(Zeq, 2) + math.pow(Req, 2))\n",
    "\n",
    "R1 = Req/2\n",
    "R2 = Req/(2*math.pow(alpha, 2))\n",
    "X1 = Xeq/2\n",
    "X2 = Xeq/(2*math.pow(alpha, 2))\n",
    "\n",
    "print(\"R1 = \", 1000*R1, \"m Ohm\")\n",
    "print(\"X1 = \", 1000*X1, \"m Ohm\")\n",
    "print(\"R2 = \",  1000000*R2, \"u Ohm\")\n",
    "print(\"X2 = \",  1000000*X2, \"u Ohm\")"
   ]
  },
  {
   "cell_type": "markdown",
   "metadata": {},
   "source": [
    "<h2>Cálculo do rendimento do trafo<h2>"
   ]
  },
  {
   "cell_type": "markdown",
   "metadata": {},
   "source": [
    "<h5> Calculando a variação de V2 e E1 com a variação da carga"
   ]
  },
  {
   "cell_type": "code",
   "execution_count": 21,
   "metadata": {},
   "outputs": [],
   "source": [
    "Inom = Icc\n",
    "V1 = Vo\n",
    "\n",
    "I2 = np.linspace(0.1*Inom, Inom, 10)\n",
    "E1 = abs(V1*np.ones(10) - alpha*I2*(R1 + X1*1j))\n",
    "V2 = abs(alpha*V1*np.ones(10) - (alpha**2*(R1 + X1*1j) + (R2 + X2*1j))*I2)"
   ]
  },
  {
   "cell_type": "markdown",
   "metadata": {},
   "source": [
    "<h5> Calculando as perdas"
   ]
  },
  {
   "cell_type": "code",
   "execution_count": 22,
   "metadata": {},
   "outputs": [],
   "source": [
    "Pc = E1**2/Rc\n",
    "Pcu = abs(I2**2*(R1/(alpha**2) + X1*1j/(alpha**2) + R2 + X2*1j))\n",
    "Psaida = V2*I2*fp"
   ]
  },
  {
   "cell_type": "markdown",
   "metadata": {},
   "source": [
    "<h5> Por fim, calculamos o rendimento"
   ]
  },
  {
   "cell_type": "code",
   "execution_count": 23,
   "metadata": {},
   "outputs": [
    {
     "data": {
      "image/png": "[encoded data removed]",
      "text/plain": [
       "<Figure size 432x288 with 1 Axes>"
      ]
     },
     "metadata": {
      "needs_background": "light"
     },
     "output_type": "display_data"
    }
   ],
   "source": [
    "eta = Psaida/(Pc + Pcu + Psaida)*100\n",
    "\n",
    "plt.plot(I2, eta)\n",
    "plt.title(\"Rendimento do trafo em função da carga\")\n",
    "plt.xlabel(\"I2[A]\")\n",
    "plt.ylabel(\"Rendimento[%]\")\n",
    "plt.show()"
   ]
  }
 ],
 "metadata": {
  "kernelspec": {
   "display_name": "Python 3.10.6 64-bit",
   "language": "python",
   "name": "python3"
  },
  "language_info": {
   "codemirror_mode": {
    "name": "ipython",
    "version": 3
   },
   "file_extension": ".py",
   "mimetype": "text/x-python",
   "name": "python",
   "nbconvert_exporter": "python",
   "pygments_lexer": "ipython3",
   "version": "3.10.6"
  },
  "orig_nbformat": 4,
  "vscode": {
   "interpreter": {
    "hash": "916dbcbb3f70747c44a77c7bcd40155683ae19c65e1c03b4aa3499c5328201f1"
   }
  }
 },
 "nbformat": 4,
 "nbformat_minor": 2
}
