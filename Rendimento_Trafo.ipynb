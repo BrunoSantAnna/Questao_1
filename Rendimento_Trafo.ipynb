{
 "cells": [
  {
   "cell_type": "code",
   "execution_count": 154,
   "metadata": {},
   "outputs": [],
   "source": [
    "import math\n",
    "import matplotlib.pyplot as plt\n",
    "import numpy as np\n",
    "import pandas as pd"
   ]
  },
  {
   "cell_type": "markdown",
   "metadata": {},
   "source": [
    "<h2>Cálculo dos parâmetros do transformador<h2>"
   ]
  },
  {
   "cell_type": "code",
   "execution_count": 155,
   "metadata": {},
   "outputs": [],
   "source": [
    "# Teste em vazio\n",
    "\n",
    "Vo = 230\n",
    "Io = 108\n",
    "Po = 5000\n",
    "\n",
    "# Teste em curto circuito\n",
    "\n",
    "Vcc = 13.75\n",
    "Icc = 217.39\n",
    "Pcc = 945.2\n",
    "\n",
    "# Outros parametros\n",
    "\n",
    "alpha = 10\n",
    "fp = 0.92"
   ]
  },
  {
   "cell_type": "markdown",
   "metadata": {},
   "source": [
    "<h5>Espressões para Rc e Xm:"
   ]
  },
  {
   "cell_type": "code",
   "execution_count": 156,
   "metadata": {},
   "outputs": [
    {
     "name": "stdout",
     "output_type": "stream",
     "text": [
      "Rc =  10.58\n",
      "Xm =  2.174129599413981\n",
      "Ic =  21.73913043478261\n",
      "Im =  105.78946170550027\n"
     ]
    }
   ],
   "source": [
    "Rc = Vo**2/Po\n",
    "Ic = Vo/Rc\n",
    "Im = math.sqrt(Io**2 - Ic**2)\n",
    "Xm = Vo/Im\n",
    "\n",
    "print(\"Rc = \", Rc)\n",
    "print(\"Xm = \", Xm)\n",
    "print(\"Ic = \", Ic)\n",
    "print(\"Im = \", Im)"
   ]
  },
  {
   "cell_type": "markdown",
   "metadata": {},
   "source": [
    "<h5>Referindo os valores para o lado de alta tensão"
   ]
  },
  {
   "cell_type": "markdown",
   "metadata": {},
   "source": [
    "<h5>Expressões para R1, X1, R2 e X2"
   ]
  },
  {
   "cell_type": "code",
   "execution_count": 157,
   "metadata": {},
   "outputs": [
    {
     "name": "stdout",
     "output_type": "stream",
     "text": [
      "Req =  20.00067200734407 m Ohm\n",
      "Zeq =  63.25037950227702 m Ohm\n",
      "Xeq =  60.00486335653727 m Ohm\n",
      "R1 =  10.000336003672034 m Ohm\n",
      "X1 =  30.002431678268636 m Ohm\n",
      "R2 =  100.00336003672034 u Ohm\n",
      "X2 =  300.02431678268636 u Ohm\n"
     ]
    }
   ],
   "source": [
    "Req = Pcc/(Icc**2)\n",
    "Zeq = Vcc/Icc\n",
    "Xeq = math.sqrt(Zeq**2 - Req**2)\n",
    "\n",
    "R1 = Req/2\n",
    "R2 = Req/(2*alpha**2)\n",
    "X1 = Xeq/2\n",
    "X2 = Xeq/(2*alpha**2)\n",
    "\n",
    "print(\"Req = \", Req*1000, \"m Ohm\")\n",
    "print(\"Zeq = \", Zeq*1000, \"m Ohm\")\n",
    "print(\"Xeq = \", Xeq*1000, \"m Ohm\")\n",
    "print(\"R1 = \", 1000*R1, \"m Ohm\")\n",
    "print(\"X1 = \", 1000*X1, \"m Ohm\")\n",
    "print(\"R2 = \",  1000000*R2, \"u Ohm\")\n",
    "print(\"X2 = \",  1000000*X2, \"u Ohm\")"
   ]
  },
  {
   "cell_type": "code",
   "execution_count": 158,
   "metadata": {},
   "outputs": [
    {
     "name": "stdout",
     "output_type": "stream",
     "text": [
      "Rc =  1058.0\n",
      "Xm =  217.4129599413981\n"
     ]
    }
   ],
   "source": [
    "Rc = Rc*alpha**2\n",
    "Xm = Xm*alpha**2\n",
    "\n",
    "\n",
    "print(\"Rc = \", Rc)\n",
    "print(\"Xm = \", Xm)"
   ]
  },
  {
   "cell_type": "markdown",
   "metadata": {},
   "source": [
    "<h2>Cálculo do rendimento do trafo<h2>"
   ]
  },
  {
   "cell_type": "markdown",
   "metadata": {},
   "source": [
    "<h5> Calculando a variação de V2 e E1 com a variação da carga"
   ]
  },
  {
   "cell_type": "markdown",
   "metadata": {},
   "source": [
    "<h5>Calculando a resistência equivalente referida ao primário"
   ]
  },
  {
   "cell_type": "code",
   "execution_count": 159,
   "metadata": {},
   "outputs": [],
   "source": [
    "Req2 = Req/(alpha**2)"
   ]
  },
  {
   "cell_type": "markdown",
   "metadata": {},
   "source": [
    "<h5> Calculando as perdas e o rendimento"
   ]
  },
  {
   "cell_type": "code",
   "execution_count": 160,
   "metadata": {},
   "outputs": [],
   "source": [
    "Inom = Icc\n",
    "V1 = 2300\n",
    "V2 = 230\n",
    "fp = 0.92\n",
    "I2 = np.linspace(Inom, 10*Inom, 10)\n",
    "\n",
    "# Cálculo das perdas\n",
    "Pc = V1**2/Rc\n",
    "Pcu = Req2*I2**2\n",
    "Psaida = V2*I2*fp\n",
    "\n",
    "#Cálculo do rendimento\n",
    "eta = Psaida/(Pc + Pcu + Psaida)*100"
   ]
  },
  {
   "cell_type": "markdown",
   "metadata": {},
   "source": [
    "Plotando o gráfico do rendimento"
   ]
  },
  {
   "cell_type": "code",
   "execution_count": 161,
   "metadata": {},
   "outputs": [
    {
     "data": {
      "image/png": "[encoded data removed]",
      "text/plain": [
       "<Figure size 432x288 with 1 Axes>"
      ]
     },
     "metadata": {
      "needs_background": "light"
     },
     "output_type": "display_data"
    }
   ],
   "source": [
    "plt.plot(I2, eta)\n",
    "plt.xlabel(\"I2[A]\")\n",
    "plt.ylabel(\"Rendimento[%]\")\n",
    "plt.grid()\n",
    "plt.savefig('Curva_de_rendimento')"
   ]
  },
  {
   "cell_type": "markdown",
   "metadata": {},
   "source": [
    "<h5> Gerando tabela das potências"
   ]
  },
  {
   "cell_type": "code",
   "execution_count": 162,
   "metadata": {},
   "outputs": [],
   "source": [
    "colunas_pot = ['$I_a$', '$P_c$', '$P_{Cu}$', '$P_s$', '$\\eta$']\n",
    "Pc = [5000 for i in range(len(Pcu))]\n",
    "dados_pot = []\n",
    "\n",
    "for i in range(len(Pc)):\n",
    "    dados_pot.append([])\n",
    "    dados_pot[i].append(round(I2[i], 2))\n",
    "    dados_pot[i].append(round(Pc[i], 2))\n",
    "    dados_pot[i].append(round(Pcu[i], 2))\n",
    "    dados_pot[i].append(round(Psaida[i], 2))\n",
    "    dados_pot[i].append(round(eta[i], 2))\n",
    "\n",
    "df_pot = pd.DataFrame(data=dados_pot, columns=colunas_pot)\n",
    "df_pot.to_csv('Tabela_Transformador_Potencias.csv', index=False)"
   ]
  }
 ],
 "metadata": {
  "kernelspec": {
   "display_name": "Python 3.10.6 64-bit",
   "language": "python",
   "name": "python3"
  },
  "language_info": {
   "codemirror_mode": {
    "name": "ipython",
    "version": 3
   },
   "file_extension": ".py",
   "mimetype": "text/x-python",
   "name": "python",
   "nbconvert_exporter": "python",
   "pygments_lexer": "ipython3",
   "version": "3.10.6"
  },
  "orig_nbformat": 4,
  "vscode": {
   "interpreter": {
    "hash": "916dbcbb3f70747c44a77c7bcd40155683ae19c65e1c03b4aa3499c5328201f1"
   }
  }
 },
 "nbformat": 4,
 "nbformat_minor": 2
}
